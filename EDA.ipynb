{
 "cells": [
  {
   "cell_type": "code",
   "execution_count": 1,
   "metadata": {},
   "outputs": [],
   "source": [
    "import numpy as np\n",
    "import pandas as pd\n",
    "import matplotlib.pyplot as plt\n",
    "import seaborn as sns"
   ]
  },
  {
   "cell_type": "markdown",
   "metadata": {},
   "source": [
    "**Analisis Penggunaan Emoji**\n",
    "\n",
    "Pertanyaan :\n",
    "1. Bagaimana penggunaan emoji berdasarkan context yang ada?\n",
    "2. Apa emoji yang sering digunakan berdasarkan gender pengguna?\n",
    "3. Emoji apa yang digunakan pengguna laki-laki dan perempuan untuk setiap context 'angry' dan 'love'?\n",
    "4. Apakah penggunaan emoji dengan context 'angry' tetapi dengan platform yang berbeda menggunakan emoji yang sama?"
   ]
  },
  {
   "cell_type": "markdown",
   "metadata": {},
   "source": [
    "### load dataset"
   ]
  },
  {
   "cell_type": "code",
   "execution_count": 2,
   "metadata": {},
   "outputs": [],
   "source": [
    "df = pd.read_csv('./dataset/emoji_usage_dataset.csv')"
   ]
  },
  {
   "cell_type": "code",
   "execution_count": 3,
   "metadata": {},
   "outputs": [
    {
     "data": {
      "text/html": [
       "<div>\n",
       "<style scoped>\n",
       "    .dataframe tbody tr th:only-of-type {\n",
       "        vertical-align: middle;\n",
       "    }\n",
       "\n",
       "    .dataframe tbody tr th {\n",
       "        vertical-align: top;\n",
       "    }\n",
       "\n",
       "    .dataframe thead th {\n",
       "        text-align: right;\n",
       "    }\n",
       "</style>\n",
       "<table border=\"1\" class=\"dataframe\">\n",
       "  <thead>\n",
       "    <tr style=\"text-align: right;\">\n",
       "      <th></th>\n",
       "      <th>Emoji</th>\n",
       "      <th>Context</th>\n",
       "      <th>Platform</th>\n",
       "      <th>User Age</th>\n",
       "      <th>User Gender</th>\n",
       "    </tr>\n",
       "  </thead>\n",
       "  <tbody>\n",
       "    <tr>\n",
       "      <th>0</th>\n",
       "      <td>😎</td>\n",
       "      <td>angry</td>\n",
       "      <td>Snapchat</td>\n",
       "      <td>47</td>\n",
       "      <td>Male</td>\n",
       "    </tr>\n",
       "    <tr>\n",
       "      <th>1</th>\n",
       "      <td>👍</td>\n",
       "      <td>love</td>\n",
       "      <td>Instagram</td>\n",
       "      <td>36</td>\n",
       "      <td>Male</td>\n",
       "    </tr>\n",
       "    <tr>\n",
       "      <th>2</th>\n",
       "      <td>😳</td>\n",
       "      <td>angry</td>\n",
       "      <td>Snapchat</td>\n",
       "      <td>51</td>\n",
       "      <td>Male</td>\n",
       "    </tr>\n",
       "    <tr>\n",
       "      <th>3</th>\n",
       "      <td>😂</td>\n",
       "      <td>confusion</td>\n",
       "      <td>Facebook</td>\n",
       "      <td>64</td>\n",
       "      <td>Male</td>\n",
       "    </tr>\n",
       "    <tr>\n",
       "      <th>4</th>\n",
       "      <td>🤣</td>\n",
       "      <td>celebration</td>\n",
       "      <td>Snapchat</td>\n",
       "      <td>56</td>\n",
       "      <td>Female</td>\n",
       "    </tr>\n",
       "  </tbody>\n",
       "</table>\n",
       "</div>"
      ],
      "text/plain": [
       "  Emoji      Context   Platform  User Age User Gender\n",
       "0     😎        angry   Snapchat        47        Male\n",
       "1     👍         love  Instagram        36        Male\n",
       "2     😳        angry   Snapchat        51        Male\n",
       "3     😂    confusion   Facebook        64        Male\n",
       "4     🤣  celebration   Snapchat        56      Female"
      ]
     },
     "execution_count": 3,
     "metadata": {},
     "output_type": "execute_result"
    }
   ],
   "source": [
    "df.head()"
   ]
  },
  {
   "cell_type": "markdown",
   "metadata": {},
   "source": [
    "### mengecek dataset\n",
    "\n",
    "- cek tiap kolom\n",
    "- missing value\n",
    "- duplikat\n",
    "- wrong format\n",
    "- wrong value"
   ]
  },
  {
   "cell_type": "markdown",
   "metadata": {},
   "source": [
    "#### cek tiap kolom"
   ]
  },
  {
   "cell_type": "code",
   "execution_count": 4,
   "metadata": {},
   "outputs": [
    {
     "name": "stdout",
     "output_type": "stream",
     "text": [
      "<class 'pandas.core.frame.DataFrame'>\n",
      "RangeIndex: 5000 entries, 0 to 4999\n",
      "Data columns (total 5 columns):\n",
      " #   Column       Non-Null Count  Dtype \n",
      "---  ------       --------------  ----- \n",
      " 0   Emoji        5000 non-null   object\n",
      " 1   Context      5000 non-null   object\n",
      " 2   Platform     5000 non-null   object\n",
      " 3   User Age     5000 non-null   int64 \n",
      " 4   User Gender  5000 non-null   object\n",
      "dtypes: int64(1), object(4)\n",
      "memory usage: 195.4+ KB\n"
     ]
    }
   ],
   "source": [
    "# cek dataset\n",
    "df.info()"
   ]
  },
  {
   "cell_type": "code",
   "execution_count": 5,
   "metadata": {},
   "outputs": [
    {
     "data": {
      "text/html": [
       "<div>\n",
       "<style scoped>\n",
       "    .dataframe tbody tr th:only-of-type {\n",
       "        vertical-align: middle;\n",
       "    }\n",
       "\n",
       "    .dataframe tbody tr th {\n",
       "        vertical-align: top;\n",
       "    }\n",
       "\n",
       "    .dataframe thead th {\n",
       "        text-align: right;\n",
       "    }\n",
       "</style>\n",
       "<table border=\"1\" class=\"dataframe\">\n",
       "  <thead>\n",
       "    <tr style=\"text-align: right;\">\n",
       "      <th></th>\n",
       "      <th>User Age</th>\n",
       "    </tr>\n",
       "  </thead>\n",
       "  <tbody>\n",
       "    <tr>\n",
       "      <th>count</th>\n",
       "      <td>5000.000000</td>\n",
       "    </tr>\n",
       "    <tr>\n",
       "      <th>mean</th>\n",
       "      <td>38.875600</td>\n",
       "    </tr>\n",
       "    <tr>\n",
       "      <th>std</th>\n",
       "      <td>15.193179</td>\n",
       "    </tr>\n",
       "    <tr>\n",
       "      <th>min</th>\n",
       "      <td>13.000000</td>\n",
       "    </tr>\n",
       "    <tr>\n",
       "      <th>25%</th>\n",
       "      <td>26.000000</td>\n",
       "    </tr>\n",
       "    <tr>\n",
       "      <th>50%</th>\n",
       "      <td>39.000000</td>\n",
       "    </tr>\n",
       "    <tr>\n",
       "      <th>75%</th>\n",
       "      <td>52.000000</td>\n",
       "    </tr>\n",
       "    <tr>\n",
       "      <th>max</th>\n",
       "      <td>64.000000</td>\n",
       "    </tr>\n",
       "  </tbody>\n",
       "</table>\n",
       "</div>"
      ],
      "text/plain": [
       "          User Age\n",
       "count  5000.000000\n",
       "mean     38.875600\n",
       "std      15.193179\n",
       "min      13.000000\n",
       "25%      26.000000\n",
       "50%      39.000000\n",
       "75%      52.000000\n",
       "max      64.000000"
      ]
     },
     "execution_count": 5,
     "metadata": {},
     "output_type": "execute_result"
    }
   ],
   "source": [
    "df.describe()"
   ]
  },
  {
   "cell_type": "code",
   "execution_count": 6,
   "metadata": {},
   "outputs": [
    {
     "data": {
      "text/plain": [
       "Emoji\n",
       "🤣     193\n",
       "👏     185\n",
       "😭     184\n",
       "🙏     184\n",
       "💕     182\n",
       "💔     181\n",
       "🤪     178\n",
       "🎉     177\n",
       "😜     176\n",
       "🤔     176\n",
       "😊     175\n",
       "👍     175\n",
       "😅     167\n",
       "😏     167\n",
       "🤩     165\n",
       "🤗     162\n",
       "😎     160\n",
       "😂     160\n",
       "😘     159\n",
       "😇     158\n",
       "😳     158\n",
       "😔     157\n",
       "😡     157\n",
       "❤️    156\n",
       "🥰     156\n",
       "😢     154\n",
       "🙌     152\n",
       "🙄     151\n",
       "😍     148\n",
       "😉     147\n",
       "Name: count, dtype: int64"
      ]
     },
     "execution_count": 6,
     "metadata": {},
     "output_type": "execute_result"
    }
   ],
   "source": [
    "# cek kolom emoji\n",
    "df['Emoji'].value_counts()"
   ]
  },
  {
   "cell_type": "code",
   "execution_count": 7,
   "metadata": {},
   "outputs": [
    {
     "data": {
      "text/plain": [
       "array(['😎', '👍', '😳', '😂', '🤣', '💔', '😭', '😘', '😏', '😜', '😊', '🙌', '💕',\n",
       "       '😇', '🤩', '❤️', '😢', '🎉', '🙏', '🤗', '😔', '🥰', '🙄', '🤔', '🤪', '😅',\n",
       "       '👏', '😡', '😍', '😉'], dtype=object)"
      ]
     },
     "execution_count": 7,
     "metadata": {},
     "output_type": "execute_result"
    }
   ],
   "source": [
    "df['Emoji'].unique()"
   ]
  },
  {
   "cell_type": "code",
   "execution_count": 8,
   "metadata": {},
   "outputs": [
    {
     "data": {
      "text/plain": [
       "30"
      ]
     },
     "execution_count": 8,
     "metadata": {},
     "output_type": "execute_result"
    }
   ],
   "source": [
    "len(df['Emoji'].unique())"
   ]
  },
  {
   "cell_type": "markdown",
   "metadata": {},
   "source": [
    "dalam dataset ini, terdapat 30 emoji yang digunakan"
   ]
  },
  {
   "cell_type": "code",
   "execution_count": 9,
   "metadata": {},
   "outputs": [
    {
     "data": {
      "text/plain": [
       "Context\n",
       "love           538\n",
       "confusion      537\n",
       "cool           532\n",
       "celebration    508\n",
       "funny          496\n",
       "angry          493\n",
       "sad            490\n",
       "support        478\n",
       "surprise       464\n",
       "happy          464\n",
       "Name: count, dtype: int64"
      ]
     },
     "execution_count": 9,
     "metadata": {},
     "output_type": "execute_result"
    }
   ],
   "source": [
    "#cek kolom context\n",
    "df['Context'].value_counts()"
   ]
  },
  {
   "cell_type": "code",
   "execution_count": 10,
   "metadata": {},
   "outputs": [
    {
     "data": {
      "text/plain": [
       "array(['angry', 'love', 'confusion', 'celebration', 'funny', 'support',\n",
       "       'surprise', 'happy', 'cool', 'sad'], dtype=object)"
      ]
     },
     "execution_count": 10,
     "metadata": {},
     "output_type": "execute_result"
    }
   ],
   "source": [
    "df['Context'].unique()"
   ]
  },
  {
   "cell_type": "markdown",
   "metadata": {},
   "source": [
    "kolom context terdapat beberapa kategori context, yaitu love, confusion, cool, celebration, funny, angry, sad, support, surprise, happy"
   ]
  },
  {
   "cell_type": "code",
   "execution_count": 11,
   "metadata": {},
   "outputs": [
    {
     "data": {
      "text/plain": [
       "Platform\n",
       "Twitter      854\n",
       "WhatsApp     838\n",
       "Facebook     830\n",
       "TikTok       830\n",
       "Snapchat     829\n",
       "Instagram    819\n",
       "Name: count, dtype: int64"
      ]
     },
     "execution_count": 11,
     "metadata": {},
     "output_type": "execute_result"
    }
   ],
   "source": [
    "#cek kolom platform\n",
    "df['Platform'].value_counts()"
   ]
  },
  {
   "cell_type": "markdown",
   "metadata": {},
   "source": [
    "dalam data ini, platform yang digunakan adalah twitter, whatsapp, facebook, tiktok, snapchat, dan instagram"
   ]
  },
  {
   "cell_type": "code",
   "execution_count": 12,
   "metadata": {},
   "outputs": [
    {
     "data": {
      "text/plain": [
       "array([47, 36, 51, ..., 63, 15, 55], dtype=int64)"
      ]
     },
     "execution_count": 12,
     "metadata": {},
     "output_type": "execute_result"
    }
   ],
   "source": [
    "#cek kolom user age\n",
    "user_age = df['User Age'].values\n",
    "user_age"
   ]
  },
  {
   "cell_type": "code",
   "execution_count": 13,
   "metadata": {},
   "outputs": [
    {
     "data": {
      "text/plain": [
       "<seaborn.axisgrid.FacetGrid at 0x1d3eaa689d0>"
      ]
     },
     "execution_count": 13,
     "metadata": {},
     "output_type": "execute_result"
    },
    {
     "data": {
      "image/png": "[encoded data removed]",
      "text/plain": [
       "<Figure size 500x500 with 1 Axes>"
      ]
     },
     "metadata": {},
     "output_type": "display_data"
    }
   ],
   "source": [
    "#cek distribusi umur \n",
    "sns.displot(user_age)"
   ]
  },
  {
   "cell_type": "code",
   "execution_count": 14,
   "metadata": {},
   "outputs": [
    {
     "data": {
      "text/plain": [
       "count    5000.000000\n",
       "mean       38.875600\n",
       "std        15.193179\n",
       "min        13.000000\n",
       "25%        26.000000\n",
       "50%        39.000000\n",
       "75%        52.000000\n",
       "max        64.000000\n",
       "Name: User Age, dtype: float64"
      ]
     },
     "execution_count": 14,
     "metadata": {},
     "output_type": "execute_result"
    }
   ],
   "source": [
    "df['User Age'].describe()"
   ]
  },
  {
   "cell_type": "markdown",
   "metadata": {},
   "source": [
    "distribusi umur cukup merata, dan banyak yang ada di usia diatas 60 tahun"
   ]
  },
  {
   "cell_type": "code",
   "execution_count": 15,
   "metadata": {},
   "outputs": [
    {
     "data": {
      "text/plain": [
       "<Axes: xlabel='User Gender', ylabel='count'>"
      ]
     },
     "execution_count": 15,
     "metadata": {},
     "output_type": "execute_result"
    },
    {
     "data": {
      "image/png": "[encoded data removed]",
      "text/plain": [
       "<Figure size 640x480 with 1 Axes>"
      ]
     },
     "metadata": {},
     "output_type": "display_data"
    }
   ],
   "source": [
    "#cek kolom user gender\n",
    "sns.countplot(x='User Gender', data=df)"
   ]
  },
  {
   "cell_type": "markdown",
   "metadata": {},
   "source": [
    "antara perempuan dan laki-laki, cukup imbang, tetapi lebih banyak laki-laki"
   ]
  },
  {
   "cell_type": "markdown",
   "metadata": {},
   "source": [
    "#### missing value"
   ]
  },
  {
   "cell_type": "code",
   "execution_count": 16,
   "metadata": {},
   "outputs": [
    {
     "name": "stdout",
     "output_type": "stream",
     "text": [
      "<class 'pandas.core.frame.DataFrame'>\n",
      "RangeIndex: 5000 entries, 0 to 4999\n",
      "Data columns (total 5 columns):\n",
      " #   Column       Non-Null Count  Dtype \n",
      "---  ------       --------------  ----- \n",
      " 0   Emoji        5000 non-null   object\n",
      " 1   Context      5000 non-null   object\n",
      " 2   Platform     5000 non-null   object\n",
      " 3   User Age     5000 non-null   int64 \n",
      " 4   User Gender  5000 non-null   object\n",
      "dtypes: int64(1), object(4)\n",
      "memory usage: 195.4+ KB\n"
     ]
    }
   ],
   "source": [
    "df.info()"
   ]
  },
  {
   "cell_type": "code",
   "execution_count": 17,
   "metadata": {},
   "outputs": [
    {
     "data": {
      "text/plain": [
       "Emoji          0\n",
       "Context        0\n",
       "Platform       0\n",
       "User Age       0\n",
       "User Gender    0\n",
       "dtype: int64"
      ]
     },
     "execution_count": 17,
     "metadata": {},
     "output_type": "execute_result"
    }
   ],
   "source": [
    "df.isnull().sum()"
   ]
  },
  {
   "cell_type": "markdown",
   "metadata": {},
   "source": [
    "dari data diatas, terdapat 5000 entries dengan 5 kolom. Data terserbut tidak memiliki missing value"
   ]
  },
  {
   "cell_type": "markdown",
   "metadata": {},
   "source": [
    "#### mengecek duplikat"
   ]
  },
  {
   "cell_type": "code",
   "execution_count": 18,
   "metadata": {},
   "outputs": [
    {
     "data": {
      "text/plain": [
       "82"
      ]
     },
     "execution_count": 18,
     "metadata": {},
     "output_type": "execute_result"
    }
   ],
   "source": [
    "df.duplicated().sum()"
   ]
  },
  {
   "cell_type": "markdown",
   "metadata": {},
   "source": [
    "ada 82 data yang duplikat"
   ]
  },
  {
   "cell_type": "code",
   "execution_count": 19,
   "metadata": {},
   "outputs": [
    {
     "data": {
      "text/plain": [
       "0       False\n",
       "1       False\n",
       "2       False\n",
       "3       False\n",
       "4       False\n",
       "        ...  \n",
       "4995    False\n",
       "4996    False\n",
       "4997     True\n",
       "4998    False\n",
       "4999    False\n",
       "Length: 5000, dtype: bool"
      ]
     },
     "execution_count": 19,
     "metadata": {},
     "output_type": "execute_result"
    }
   ],
   "source": [
    "df.duplicated()"
   ]
  },
  {
   "cell_type": "code",
   "execution_count": 20,
   "metadata": {},
   "outputs": [
    {
     "name": "stdout",
     "output_type": "stream",
     "text": [
      "     Emoji      Context   Platform  User Age User Gender\n",
      "629      🙄  celebration   Facebook        21      Female\n",
      "705      🤪        happy   Facebook        62      Female\n",
      "879      😘         cool    Twitter        64      Female\n",
      "1088     😘         cool   WhatsApp        25      Female\n",
      "1132     😂         cool     TikTok        35      Female\n",
      "...    ...          ...        ...       ...         ...\n",
      "4904     🤩     surprise  Instagram        47        Male\n",
      "4935     💕  celebration   Snapchat        32        Male\n",
      "4946     🤔        angry   Facebook        30      Female\n",
      "4953     💔  celebration  Instagram        36        Male\n",
      "4997     😂  celebration     TikTok        63        Male\n",
      "\n",
      "[82 rows x 5 columns]\n"
     ]
    }
   ],
   "source": [
    "duplikasi_seutuhnya = df[df.duplicated()]\n",
    "print(duplikasi_seutuhnya.head(100))\n"
   ]
  },
  {
   "cell_type": "markdown",
   "metadata": {},
   "source": [
    "dilihat dari hasil diatas, duplikasi yang terjadi adalah duplikasi parsial dan karena tujuan dari project ini adalah untuk melakukan analisis penggunaan, maka duplikasi tetap dipertahankan"
   ]
  },
  {
   "cell_type": "markdown",
   "metadata": {},
   "source": [
    "#### cek wrong format dan wrong value"
   ]
  },
  {
   "cell_type": "code",
   "execution_count": 21,
   "metadata": {},
   "outputs": [
    {
     "data": {
      "text/plain": [
       "Emoji          object\n",
       "Context        object\n",
       "Platform       object\n",
       "User Age        int64\n",
       "User Gender    object\n",
       "dtype: object"
      ]
     },
     "execution_count": 21,
     "metadata": {},
     "output_type": "execute_result"
    }
   ],
   "source": [
    "#mengecek tipe data tiap kolom\n",
    "df.dtypes"
   ]
  },
  {
   "cell_type": "code",
   "execution_count": 22,
   "metadata": {},
   "outputs": [
    {
     "data": {
      "text/plain": [
       "count    5000.000000\n",
       "mean       38.875600\n",
       "std        15.193179\n",
       "min        13.000000\n",
       "25%        26.000000\n",
       "50%        39.000000\n",
       "75%        52.000000\n",
       "max        64.000000\n",
       "Name: User Age, dtype: float64"
      ]
     },
     "execution_count": 22,
     "metadata": {},
     "output_type": "execute_result"
    }
   ],
   "source": [
    "#cek rentang nilai pada user age\n",
    "df['User Age'].describe()"
   ]
  },
  {
   "cell_type": "markdown",
   "metadata": {},
   "source": [
    "tidak ada data yang aneh dari hasil diatas"
   ]
  },
  {
   "cell_type": "markdown",
   "metadata": {},
   "source": [
    "**Hasil pengecekan dataset**\n",
    "- tidak ada missing value\n",
    "- terdapat 82 data duplikat, tetapi tetap dipertahankan karena project ini bertujuan untuk analisis pengelompokan penggunaan emoji, jadi data duplikat mungkin penting untuk dipertahankan. selain itu, data duplikat berjenis parsial\n",
    "- tidak ada wrong format atau format yang salah\n",
    "- tidak ada wrong value atau nilai yang salah"
   ]
  },
  {
   "cell_type": "markdown",
   "metadata": {},
   "source": [
    "### Analisis Data"
   ]
  },
  {
   "cell_type": "markdown",
   "metadata": {},
   "source": [
    "#### Bagaimana penggunaan emoji berdasarkan context yang ada?"
   ]
  },
  {
   "cell_type": "markdown",
   "metadata": {},
   "source": [
    "##### context love"
   ]
  },
  {
   "cell_type": "code",
   "execution_count": 23,
   "metadata": {},
   "outputs": [
    {
     "name": "stdout",
     "output_type": "stream",
     "text": [
      "Emoji yang paling banyak digunakan dalam konteks 'love' adalah '👍' dengan 27 kemunculan.\n"
     ]
    }
   ],
   "source": [
    "# Filter untuk konteks 'love'\n",
    "love_df = df[df['Context'] == 'love']\n",
    "\n",
    "# Hitung frekuensi setiap emoji\n",
    "emoji_counts = love_df['Emoji'].value_counts()\n",
    "\n",
    "# Tampilkan emoji yang paling banyak digunakan\n",
    "most_common_emoji = emoji_counts.idxmax()\n",
    "most_common_count = emoji_counts.max()\n",
    "\n",
    "print(f\"Emoji yang paling banyak digunakan dalam konteks 'love' adalah '{most_common_emoji}' dengan {most_common_count} kemunculan.\")"
   ]
  },
  {
   "cell_type": "code",
   "execution_count": 24,
   "metadata": {},
   "outputs": [],
   "source": [
    "# love_df = df[df['Context'] == 'love']\n",
    "\n",
    "# # Hitung frekuensi setiap emoji\n",
    "# emoji_counts = love_df['Emoji'].value_counts()\n",
    "\n",
    "# # Visualisasikan frekuensi emoji\n",
    "# plt.figure(figsize=(10, 6))\n",
    "# emoji_counts.plot(kind='bar', color='skyblue')\n",
    "# plt.xlabel('Emoji')\n",
    "# plt.ylabel('Jumlah Penggunaan')\n",
    "# plt.title('Frekuensi Emoji dalam Konteks \"Funny\"')\n",
    "# plt.xticks(rotation=45)\n",
    "# plt.show()"
   ]
  },
  {
   "cell_type": "markdown",
   "metadata": {},
   "source": [
    "##### context confusion"
   ]
  },
  {
   "cell_type": "code",
   "execution_count": 25,
   "metadata": {},
   "outputs": [
    {
     "name": "stdout",
     "output_type": "stream",
     "text": [
      "Emoji yang paling banyak digunakan dalam konteks 'confusion' adalah '😏' dengan 27 kemunculan.\n"
     ]
    }
   ],
   "source": [
    "# Filter untuk konteks 'confusion'\n",
    "confusion_df = df[df['Context'] == 'confusion']\n",
    "\n",
    "# Hitung frekuensi setiap emoji\n",
    "emoji_counts = confusion_df['Emoji'].value_counts()\n",
    "\n",
    "# Tampilkan emoji yang paling banyak digunakan\n",
    "most_common_emoji = emoji_counts.idxmax()\n",
    "most_common_count = emoji_counts.max()\n",
    "\n",
    "print(f\"Emoji yang paling banyak digunakan dalam konteks 'confusion' adalah '{most_common_emoji}' dengan {most_common_count} kemunculan.\")"
   ]
  },
  {
   "cell_type": "markdown",
   "metadata": {},
   "source": [
    "##### context cool"
   ]
  },
  {
   "cell_type": "code",
   "execution_count": 26,
   "metadata": {},
   "outputs": [
    {
     "name": "stdout",
     "output_type": "stream",
     "text": [
      "Emoji yang paling banyak digunakan dalam konteks 'cool' adalah '🤩' dengan 25 kemunculan.\n"
     ]
    }
   ],
   "source": [
    "# Filter untuk konteks 'cool'\n",
    "cool_df = df[df['Context'] == 'cool']\n",
    "\n",
    "# Hitung frekuensi setiap emoji\n",
    "emoji_counts = cool_df['Emoji'].value_counts()\n",
    "\n",
    "# Tampilkan emoji yang paling banyak digunakan\n",
    "most_common_emoji = emoji_counts.idxmax()\n",
    "most_common_count = emoji_counts.max()\n",
    "\n",
    "print(f\"Emoji yang paling banyak digunakan dalam konteks 'cool' adalah '{most_common_emoji}' dengan {most_common_count} kemunculan.\")"
   ]
  },
  {
   "cell_type": "markdown",
   "metadata": {},
   "source": [
    "##### context celebration"
   ]
  },
  {
   "cell_type": "code",
   "execution_count": 27,
   "metadata": {},
   "outputs": [
    {
     "name": "stdout",
     "output_type": "stream",
     "text": [
      "Emoji yang paling banyak digunakan dalam konteks 'celebration' adalah '😘' dengan 24 kemunculan.\n"
     ]
    }
   ],
   "source": [
    "# Filter untuk konteks 'celebration'\n",
    "confusion_df = df[df['Context'] == 'celebration']\n",
    "\n",
    "# Hitung frekuensi setiap emoji\n",
    "emoji_counts = confusion_df['Emoji'].value_counts()\n",
    "\n",
    "# Tampilkan emoji yang paling banyak digunakan\n",
    "most_common_emoji = emoji_counts.idxmax()\n",
    "most_common_count = emoji_counts.max()\n",
    "\n",
    "print(f\"Emoji yang paling banyak digunakan dalam konteks 'celebration' adalah '{most_common_emoji}' dengan {most_common_count} kemunculan.\")"
   ]
  },
  {
   "cell_type": "markdown",
   "metadata": {},
   "source": [
    "##### context funny"
   ]
  },
  {
   "cell_type": "code",
   "execution_count": 28,
   "metadata": {},
   "outputs": [
    {
     "name": "stdout",
     "output_type": "stream",
     "text": [
      "Emoji yang paling banyak digunakan dalam konteks 'funny' adalah '🙏' dengan 25 kemunculan.\n"
     ]
    }
   ],
   "source": [
    "# Filter untuk konteks 'funny'\n",
    "funny_df = df[df['Context'] == 'funny']\n",
    "\n",
    "# Hitung frekuensi setiap emoji\n",
    "emoji_counts = funny_df['Emoji'].value_counts()\n",
    "\n",
    "# Tampilkan emoji yang paling banyak digunakan\n",
    "most_common_emoji = emoji_counts.idxmax()\n",
    "most_common_count = emoji_counts.max()\n",
    "\n",
    "print(f\"Emoji yang paling banyak digunakan dalam konteks 'funny' adalah '{most_common_emoji}' dengan {most_common_count} kemunculan.\")"
   ]
  },
  {
   "cell_type": "markdown",
   "metadata": {},
   "source": [
    "##### context angry"
   ]
  },
  {
   "cell_type": "code",
   "execution_count": 29,
   "metadata": {},
   "outputs": [
    {
     "name": "stdout",
     "output_type": "stream",
     "text": [
      "Emoji yang paling banyak digunakan dalam konteks 'angry' adalah '🤔' dengan 22 kemunculan.\n"
     ]
    }
   ],
   "source": [
    "angry_df = df[df['Context'] == 'angry']\n",
    "\n",
    "emoji_counts = angry_df['Emoji'].value_counts()\n",
    "\n",
    "most_common_emoji = emoji_counts.idxmax()\n",
    "most_common_count = emoji_counts.max()\n",
    "\n",
    "print(f\"Emoji yang paling banyak digunakan dalam konteks 'angry' adalah '{most_common_emoji}' dengan {most_common_count} kemunculan.\")"
   ]
  },
  {
   "cell_type": "markdown",
   "metadata": {},
   "source": [
    "##### context sad"
   ]
  },
  {
   "cell_type": "code",
   "execution_count": 30,
   "metadata": {},
   "outputs": [
    {
     "name": "stdout",
     "output_type": "stream",
     "text": [
      "Emoji yang paling banyak digunakan dalam konteks 'sad' adalah '😜' dengan 22 kemunculan.\n"
     ]
    }
   ],
   "source": [
    "sad_df = df[df['Context'] == 'sad']\n",
    "\n",
    "emoji_counts = sad_df['Emoji'].value_counts()\n",
    "\n",
    "most_common_emoji = emoji_counts.idxmax()\n",
    "most_common_count = emoji_counts.max()\n",
    "\n",
    "print(f\"Emoji yang paling banyak digunakan dalam konteks 'sad' adalah '{most_common_emoji}' dengan {most_common_count} kemunculan.\")"
   ]
  },
  {
   "cell_type": "markdown",
   "metadata": {},
   "source": [
    "##### context support"
   ]
  },
  {
   "cell_type": "code",
   "execution_count": 31,
   "metadata": {},
   "outputs": [
    {
     "name": "stdout",
     "output_type": "stream",
     "text": [
      "Emoji yang paling banyak digunakan dalam konteks 'support' adalah '💕' dengan 23 kemunculan.\n"
     ]
    }
   ],
   "source": [
    "support_df = df[df['Context'] == 'support']\n",
    "\n",
    "emoji_counts = support_df['Emoji'].value_counts()\n",
    "\n",
    "most_common_emoji = emoji_counts.idxmax()\n",
    "most_common_count = emoji_counts.max()\n",
    "\n",
    "print(f\"Emoji yang paling banyak digunakan dalam konteks 'support' adalah '{most_common_emoji}' dengan {most_common_count} kemunculan.\")"
   ]
  },
  {
   "cell_type": "markdown",
   "metadata": {},
   "source": [
    "##### context surprise"
   ]
  },
  {
   "cell_type": "code",
   "execution_count": 32,
   "metadata": {},
   "outputs": [
    {
     "name": "stdout",
     "output_type": "stream",
     "text": [
      "Emoji yang paling banyak digunakan dalam konteks 'surprise' adalah '💔' dengan 24 kemunculan.\n"
     ]
    }
   ],
   "source": [
    "surprise_df = df[df['Context'] == 'surprise']\n",
    "\n",
    "emoji_counts = surprise_df['Emoji'].value_counts()\n",
    "\n",
    "most_common_emoji = emoji_counts.idxmax()\n",
    "most_common_count = emoji_counts.max()\n",
    "\n",
    "print(f\"Emoji yang paling banyak digunakan dalam konteks 'surprise' adalah '{most_common_emoji}' dengan {most_common_count} kemunculan.\")"
   ]
  },
  {
   "cell_type": "markdown",
   "metadata": {},
   "source": [
    "##### context happy"
   ]
  },
  {
   "cell_type": "code",
   "execution_count": 33,
   "metadata": {},
   "outputs": [
    {
     "name": "stdout",
     "output_type": "stream",
     "text": [
      "Emoji yang paling banyak digunakan dalam konteks 'happy' adalah '😡' dengan 24 kemunculan.\n"
     ]
    }
   ],
   "source": [
    "happy_df = df[df['Context'] == 'happy']\n",
    "\n",
    "emoji_counts = happy_df['Emoji'].value_counts()\n",
    "\n",
    "most_common_emoji = emoji_counts.idxmax()\n",
    "most_common_count = emoji_counts.max()\n",
    "\n",
    "print(f\"Emoji yang paling banyak digunakan dalam konteks 'happy' adalah '{most_common_emoji}' dengan {most_common_count} kemunculan.\")"
   ]
  },
  {
   "cell_type": "markdown",
   "metadata": {},
   "source": [
    "#### Apa emoji yang sering digunakan berdasarkan gender pengguna?"
   ]
  },
  {
   "cell_type": "code",
   "execution_count": 34,
   "metadata": {},
   "outputs": [
    {
     "name": "stdout",
     "output_type": "stream",
     "text": [
      "Emoji yang paling banyak digunakan dalam Perempuan adalah '🎉' dengan 96 kemunculan.\n"
     ]
    }
   ],
   "source": [
    "# Filter untuk gender\n",
    "female_df = df[df['User Gender'] == 'Female']\n",
    "\n",
    "# Hitung frekuensi setiap emoji\n",
    "emoji_counts = female_df['Emoji'].value_counts()\n",
    "\n",
    "# Tampilkan emoji yang paling banyak digunakan\n",
    "most_common_emoji = emoji_counts.idxmax()\n",
    "most_common_count = emoji_counts.max()\n",
    "\n",
    "print(f\"Emoji yang paling banyak digunakan dalam Perempuan adalah '{most_common_emoji}' dengan {most_common_count} kemunculan.\")"
   ]
  },
  {
   "cell_type": "code",
   "execution_count": 35,
   "metadata": {},
   "outputs": [
    {
     "name": "stdout",
     "output_type": "stream",
     "text": [
      "Emoji yang paling banyak digunakan dalam laki-laki adalah '🤣' dengan 99 kemunculan.\n"
     ]
    }
   ],
   "source": [
    "# Filter untuk gender\n",
    "male_df = df[df['User Gender'] == 'Male']\n",
    "\n",
    "# Hitung frekuensi setiap emoji\n",
    "emoji_counts = male_df['Emoji'].value_counts()\n",
    "\n",
    "# Tampilkan emoji yang paling banyak digunakan\n",
    "most_common_emoji = emoji_counts.idxmax()\n",
    "most_common_count = emoji_counts.max()\n",
    "\n",
    "print(f\"Emoji yang paling banyak digunakan dalam laki-laki adalah '{most_common_emoji}' dengan {most_common_count} kemunculan.\")"
   ]
  },
  {
   "cell_type": "markdown",
   "metadata": {},
   "source": [
    "#### Emoji apa yang digunakan pengguna laki-laki dan perempuan untuk setiap context 'angry' dan 'love'?"
   ]
  },
  {
   "cell_type": "code",
   "execution_count": 36,
   "metadata": {},
   "outputs": [
    {
     "name": "stdout",
     "output_type": "stream",
     "text": [
      "Emoji yang digunakan laki-laki dalam konteks 'angry':\n",
      "Emoji\n",
      "😜    15\n",
      "😭    11\n",
      "🙏    11\n",
      "Name: count, dtype: int64\n",
      "Emoji yang digunakan perempuan dalam konteks 'angry':\n",
      "Emoji\n",
      "🤪    13\n",
      "😢    12\n",
      "🙄    11\n",
      "Name: count, dtype: int64\n",
      "Emoji yang digunakan laki-laki dalam konteks 'love':\n",
      "Emoji\n",
      "👍    14\n",
      "👏    14\n",
      "🙌    13\n",
      "Name: count, dtype: int64\n",
      "Emoji yang digunakan perempuan dalam konteks 'love':\n",
      "Emoji\n",
      "🙏    21\n",
      "😂    16\n",
      "🤔    16\n",
      "Name: count, dtype: int64\n"
     ]
    }
   ],
   "source": [
    "# Filter data untuk konteks 'angry' dan 'love'\n",
    "angry_df = df[df['Context'] == 'angry']\n",
    "love_df = df[df['Context'] == 'love']\n",
    "\n",
    "# Pisahkan berdasarkan gender\n",
    "angry_male = angry_df[angry_df['User Gender'] == 'Male']\n",
    "angry_female = angry_df[angry_df['User Gender'] == 'Female']\n",
    "love_male = love_df[love_df['User Gender'] == 'Male']\n",
    "love_female = love_df[love_df['User Gender'] == 'Female']\n",
    "\n",
    "# Hitung frekuensi setiap emoji\n",
    "angry_male_counts = angry_male['Emoji'].value_counts().head(3)\n",
    "angry_female_counts = angry_female['Emoji'].value_counts().head(3)\n",
    "love_male_counts = love_male['Emoji'].value_counts().head(3)\n",
    "love_female_counts = love_female['Emoji'].value_counts().head(3)\n",
    "\n",
    "# Tampilkan hasil untuk setiap kategori\n",
    "def plot_emoji_counts(counts, title):\n",
    "    plt.figure(figsize=(10, 6))\n",
    "    counts.plot(kind='bar', color='skyblue')\n",
    "    plt.xlabel('Emoji')\n",
    "    plt.ylabel('Jumlah Penggunaan')\n",
    "    plt.title(title)\n",
    "    plt.xticks(rotation=45)\n",
    "    plt.show()\n",
    "\n",
    "print(\"Emoji yang digunakan laki-laki dalam konteks 'angry':\")\n",
    "print(angry_male_counts)\n",
    "# plot_emoji_counts(angry_male_counts, \"Emoji yang Digunakan Laki-Laki dalam Konteks 'Angry'\")\n",
    "\n",
    "print(\"Emoji yang digunakan perempuan dalam konteks 'angry':\")\n",
    "print(angry_female_counts)\n",
    "# plot_emoji_counts(angry_female_counts, \"Emoji yang Digunakan Perempuan dalam Konteks 'Angry'\")\n",
    "\n",
    "print(\"Emoji yang digunakan laki-laki dalam konteks 'love':\")\n",
    "print(love_male_counts)\n",
    "# plot_emoji_counts(love_male_counts, \"Emoji yang Digunakan Laki-Laki dalam Konteks 'Love'\")\n",
    "\n",
    "print(\"Emoji yang digunakan perempuan dalam konteks 'love':\")\n",
    "print(love_female_counts)\n",
    "# plot_emoji_counts(love_female_counts, \"Emoji yang Digunakan Perempuan dalam Konteks 'Love'\")"
   ]
  },
  {
   "cell_type": "markdown",
   "metadata": {},
   "source": [
    "#### Apakah penggunaan emoji dengan context 'angry' tetapi dengan platform yang berbeda menggunakan emoji yang sama?"
   ]
  },
  {
   "cell_type": "code",
   "execution_count": 37,
   "metadata": {},
   "outputs": [
    {
     "name": "stdout",
     "output_type": "stream",
     "text": [
      "Emoji yang digunakan pengguna twitter dalam konteks 'angry':\n",
      "Emoji\n",
      "😜    15\n",
      "😭    11\n",
      "🙏    11\n",
      "Name: count, dtype: int64\n",
      "Emoji yang digunakan pengguna WhatsApp dalam konteks 'angry':\n",
      "Emoji\n",
      "😅    7\n",
      "🤔    5\n",
      "💔    5\n",
      "Name: count, dtype: int64\n",
      "Emoji yang digunakan pengguna Facebook dalam konteks 'angry':\n",
      "Emoji\n",
      "😳    6\n",
      "😡    5\n",
      "😉    5\n",
      "Name: count, dtype: int64\n"
     ]
    }
   ],
   "source": [
    "# Filter data untuk konteks 'angry' dan 'love'\n",
    "angry_df = df[df['Context'] == 'angry']\n",
    "\n",
    "# Pisahkan berdasarkan gender\n",
    "angry_x = angry_df[angry_df['Platform'] == 'Twitter']\n",
    "angry_wa = angry_df[angry_df['Platform'] == 'WhatsApp']\n",
    "angry_fb = angry_df[angry_df['Platform'] == 'Facebook']\n",
    "angry_tt = angry_df[angry_df['Platform'] == 'TikTok']\n",
    "angry_sc = angry_df[angry_df['Platform'] == 'Snapchat']\n",
    "angry_ig = angry_df[angry_df['Platform'] == 'Instagram']\n",
    "\n",
    "\n",
    "# Hitung frekuensi setiap emoji\n",
    "angry_x_counts = angry_x['Emoji'].value_counts().head(3)\n",
    "angry_wa_counts = angry_wa['Emoji'].value_counts().head(3)\n",
    "angry_fb_counts = angry_fb['Emoji'].value_counts().head(3)\n",
    "angry_tt_counts = angry_tt['Emoji'].value_counts().head(3)\n",
    "angry_sc_counts = angry_sc['Emoji'].value_counts().head(3)\n",
    "angry_ig_counts = angry_ig['Emoji'].value_counts().head(3)\n",
    "\n",
    "\n",
    "\n",
    "# Tampilkan hasil untuk setiap kategori\n",
    "def plot_emoji_counts(counts, title):\n",
    "    plt.figure(figsize=(10, 6))\n",
    "    counts.plot(kind='bar', color='skyblue')\n",
    "    plt.xlabel('Emoji')\n",
    "    plt.ylabel('Jumlah Penggunaan')\n",
    "    plt.title(title)\n",
    "    plt.xticks(rotation=45)\n",
    "    plt.show()\n",
    "\n",
    "print(\"Emoji yang digunakan pengguna twitter dalam konteks 'angry':\")\n",
    "print(angry_male_counts)\n",
    "# plot_emoji_counts(angry_x_counts, \"Emoji yang Digunakan pengguna twitter dalam Konteks 'Angry'\")\n",
    "\n",
    "print(\"Emoji yang digunakan pengguna WhatsApp dalam konteks 'angry':\")\n",
    "print(angry_wa_counts)\n",
    "# plot_emoji_counts(angry_x_counts, \"Emoji yang Digunakan pengguna twitter dalam Konteks 'Angry'\")\n",
    "\n",
    "print(\"Emoji yang digunakan pengguna Facebook dalam konteks 'angry':\")\n",
    "print(angry_fb_counts)\n",
    "# plot_emoji_counts(angry_x_counts, \"Emoji yang Digunakan pengguna twitter dalam Konteks 'Angry'\")\n"
   ]
  },
  {
   "cell_type": "code",
   "execution_count": 38,
   "metadata": {},
   "outputs": [
    {
     "name": "stdout",
     "output_type": "stream",
     "text": [
      "Emoji yang digunakan pengguna TikTok dalam konteks 'angry':\n",
      "Emoji\n",
      "😊    7\n",
      "😭    6\n",
      "🎉    5\n",
      "Name: count, dtype: int64\n",
      "Emoji yang digunakan pengguna Snapchat dalam konteks 'angry':\n",
      "Emoji\n",
      "🙏    8\n",
      "😏    5\n",
      "😡    5\n",
      "Name: count, dtype: int64\n",
      "Emoji yang digunakan pengguna Instagram dalam konteks 'angry':\n",
      "Emoji\n",
      "😏    5\n",
      "🤔    5\n",
      "🎉    4\n",
      "Name: count, dtype: int64\n"
     ]
    }
   ],
   "source": [
    "print(\"Emoji yang digunakan pengguna TikTok dalam konteks 'angry':\")\n",
    "print(angry_tt_counts)\n",
    "# plot_emoji_counts(angry_x_counts, \"Emoji yang Digunakan pengguna twitter dalam Konteks 'Angry'\")\n",
    "\n",
    "print(\"Emoji yang digunakan pengguna Snapchat dalam konteks 'angry':\")\n",
    "print(angry_sc_counts)\n",
    "# plot_emoji_counts(angry_x_counts, \"Emoji yang Digunakan pengguna twitter dalam Konteks 'Angry'\")\n",
    "\n",
    "print(\"Emoji yang digunakan pengguna Instagram dalam konteks 'angry':\")\n",
    "print(angry_ig_counts)\n",
    "# plot_emoji_counts(angry_x_counts, \"Emoji yang Digunakan pengguna twitter dalam Konteks 'Angry'\")\n"
   ]
  },
  {
   "cell_type": "markdown",
   "metadata": {},
   "source": [
    "### Kesimpulan"
   ]
  },
  {
   "cell_type": "markdown",
   "metadata": {},
   "source": [
    "tarik sendiri, males"
   ]
  }
 ],
 "metadata": {
  "kernelspec": {
   "display_name": "Python 3",
   "language": "python",
   "name": "python3"
  },
  "language_info": {
   "codemirror_mode": {
    "name": "ipython",
    "version": 3
   },
   "file_extension": ".py",
   "mimetype": "text/x-python",
   "name": "python",
   "nbconvert_exporter": "python",
   "pygments_lexer": "ipython3",
   "version": "3.11.4"
  }
 },
 "nbformat": 4,
 "nbformat_minor": 2
}
